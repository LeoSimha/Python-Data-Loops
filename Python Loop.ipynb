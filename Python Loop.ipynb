{
 "cells": [
  {
   "cell_type": "code",
   "execution_count": 1,
   "metadata": {},
   "outputs": [
    {
     "name": "stdout",
     "output_type": "stream",
     "text": [
      "Leo\n"
     ]
    }
   ],
   "source": [
    "if True:\n",
    "    print(\"Leo\")"
   ]
  },
  {
   "cell_type": "code",
   "execution_count": 2,
   "metadata": {},
   "outputs": [
    {
     "name": "stdout",
     "output_type": "stream",
     "text": [
      "Hello\n"
     ]
    }
   ],
   "source": [
    "if False:\n",
    "    print(\"Leo\")\n",
    "print(\"Hello\")"
   ]
  },
  {
   "cell_type": "code",
   "execution_count": 3,
   "metadata": {},
   "outputs": [
    {
     "name": "stdout",
     "output_type": "stream",
     "text": [
      "Leo\n",
      "Hello\n"
     ]
    }
   ],
   "source": [
    "if True:\n",
    "    print(\"Leo\")\n",
    "print(\"Hello\")"
   ]
  },
  {
   "cell_type": "code",
   "execution_count": 5,
   "metadata": {},
   "outputs": [
    {
     "name": "stdout",
     "output_type": "stream",
     "text": [
      "x is even\n"
     ]
    }
   ],
   "source": [
    "x = 14\n",
    "r = x % 2\n",
    "if r == 0:\n",
    "    print(\"x is even\")\n",
    "if r == 1:\n",
    "    print(\"x is odd\")"
   ]
  },
  {
   "cell_type": "code",
   "execution_count": 6,
   "metadata": {},
   "outputs": [
    {
     "name": "stdout",
     "output_type": "stream",
     "text": [
      "x is even\n"
     ]
    }
   ],
   "source": [
    "x = 14\n",
    "r = x % 2\n",
    "if r == 0:\n",
    "    print(\"x is even\")\n",
    "else:\n",
    "    print(\"x is odd\")"
   ]
  },
  {
   "cell_type": "code",
   "execution_count": 7,
   "metadata": {},
   "outputs": [
    {
     "name": "stdout",
     "output_type": "stream",
     "text": [
      "x is odd\n"
     ]
    }
   ],
   "source": [
    "x = 19\n",
    "r = x % 2\n",
    "if r == 0:\n",
    "    print(\"x is even\")\n",
    "    if x > 10:\n",
    "        print(\"x is greater than 10\")\n",
    "    else:\n",
    "        print(\"x is less than 10\")\n",
    "else:\n",
    "    print(\"x is odd\")"
   ]
  },
  {
   "cell_type": "code",
   "execution_count": 8,
   "metadata": {},
   "outputs": [
    {
     "name": "stdout",
     "output_type": "stream",
     "text": [
      "x is even\n",
      "x is greater than 10\n"
     ]
    }
   ],
   "source": [
    "x = 12\n",
    "r = x % 2\n",
    "if r == 0:\n",
    "    print(\"x is even\")\n",
    "    if x > 10:\n",
    "        print(\"x is greater than 10\")\n",
    "    else:\n",
    "        print(\"x is less than 10\")\n",
    "else:\n",
    "    print(\"x is odd\")"
   ]
  },
  {
   "cell_type": "code",
   "execution_count": 9,
   "metadata": {},
   "outputs": [
    {
     "name": "stdout",
     "output_type": "stream",
     "text": [
      "x is 4\n"
     ]
    }
   ],
   "source": [
    "x = 4\n",
    "\n",
    "if(x == 1):\n",
    "    print(\"x is 1\")\n",
    "if(x == 2):\n",
    "    print(\"x is 2\")\n",
    "if(x == 3):\n",
    "    print(\"x is 3\")\n",
    "if(x == 4):\n",
    "    print(\"x is 4\")\n",
    "if(x == 5):\n",
    "    print(\"x is 5\")\n",
    "\n",
    "# This is a bad practice."
   ]
  },
  {
   "cell_type": "code",
   "execution_count": 10,
   "metadata": {},
   "outputs": [
    {
     "name": "stdout",
     "output_type": "stream",
     "text": [
      "x is 4\n"
     ]
    }
   ],
   "source": [
    "x = 4\n",
    "\n",
    "if(x == 1):\n",
    "    print(\"x is 1\")\n",
    "elif(x == 2):\n",
    "    print(\"x is 2\")\n",
    "elif(x == 3):\n",
    "    print(\"x is 3\")\n",
    "elif(x == 4):\n",
    "    print(\"x is 4\")\n",
    "elif(x == 5):\n",
    "    print(\"x is 5\")\n",
    "else:\n",
    "    print('x is not in this given list')"
   ]
  },
  {
   "cell_type": "code",
   "execution_count": 11,
   "metadata": {},
   "outputs": [
    {
     "name": "stdout",
     "output_type": "stream",
     "text": [
      "x is not in this given list\n"
     ]
    }
   ],
   "source": [
    "x = 8\n",
    "\n",
    "if(x == 1):\n",
    "    print(\"x is 1\")\n",
    "elif(x == 2):\n",
    "    print(\"x is 2\")\n",
    "elif(x == 3):\n",
    "    print(\"x is 3\")\n",
    "elif(x == 4):\n",
    "    print(\"x is 4\")\n",
    "elif(x == 5):\n",
    "    print(\"x is 5\")\n",
    "else:\n",
    "    print('x is not in this given list')"
   ]
  },
  {
   "cell_type": "code",
   "execution_count": 12,
   "metadata": {},
   "outputs": [
    {
     "name": "stdout",
     "output_type": "stream",
     "text": [
      "Nucleya\n",
      "Nucleya\n",
      "Nucleya\n",
      "Nucleya\n",
      "Nucleya\n"
     ]
    }
   ],
   "source": [
    "i = 1\n",
    "\n",
    "while i < 6:\n",
    "    print('Nucleya')\n",
    "    i += 1"
   ]
  },
  {
   "cell_type": "code",
   "execution_count": 13,
   "metadata": {},
   "outputs": [
    {
     "name": "stdout",
     "output_type": "stream",
     "text": [
      "Hello\n",
      "Hello\n",
      "Hello\n",
      "Hello\n"
     ]
    }
   ],
   "source": [
    "i = 10\n",
    "\n",
    "while i > 6:\n",
    "    print('Hello')\n",
    "    i -= 1"
   ]
  },
  {
   "cell_type": "code",
   "execution_count": 14,
   "metadata": {},
   "outputs": [
    {
     "name": "stdout",
     "output_type": "stream",
     "text": [
      "Entry : 0\n",
      "Entry : 1\n",
      "Entry : 2\n",
      "Entry : 3\n",
      "Entry : 4\n"
     ]
    }
   ],
   "source": [
    "i = 1\n",
    "\n",
    "while i < 6:\n",
    "    print('Entry',':',i-1)\n",
    "    i += 1"
   ]
  },
  {
   "cell_type": "code",
   "execution_count": 16,
   "metadata": {},
   "outputs": [
    {
     "name": "stdout",
     "output_type": "stream",
     "text": [
      "Entry : 1\n",
      "Nested : 1\n",
      "Nested : 2\n",
      "Nested : 3\n",
      "End : 2\n",
      "\n",
      "Entry : 2\n",
      "Nested : 1\n",
      "Nested : 2\n",
      "Nested : 3\n",
      "End : 3\n",
      "\n",
      "Entry : 3\n",
      "Nested : 1\n",
      "Nested : 2\n",
      "Nested : 3\n",
      "End : 4\n",
      "\n",
      "Entry : 4\n",
      "Nested : 1\n",
      "Nested : 2\n",
      "Nested : 3\n",
      "End : 5\n",
      "\n",
      "Entry : 5\n",
      "Nested : 1\n",
      "Nested : 2\n",
      "Nested : 3\n",
      "End : 6\n",
      "\n",
      "End of Loop\n"
     ]
    }
   ],
   "source": [
    "i = 1\n",
    "\n",
    "while i < 6:\n",
    "    print('Entry',':',i)\n",
    "    j = 1\n",
    "    while j < 4:\n",
    "        print('Nested',':',j)\n",
    "        j += 1\n",
    "    i += 1\n",
    "    print('End',':',i)\n",
    "    print()\n",
    "print('End of Loop')"
   ]
  },
  {
   "cell_type": "code",
   "execution_count": 18,
   "metadata": {},
   "outputs": [
    {
     "name": "stdout",
     "output_type": "stream",
     "text": [
      "Entry : 1 Nested : 1Nested : 2Nested : 3End : 2\n",
      "\n",
      "Entry : 2 Nested : 1Nested : 2Nested : 3End : 3\n",
      "\n",
      "Entry : 3 Nested : 1Nested : 2Nested : 3End : 4\n",
      "\n",
      "Entry : 4 Nested : 1Nested : 2Nested : 3End : 5\n",
      "\n",
      "Entry : 5 Nested : 1Nested : 2Nested : 3End : 6\n",
      "\n"
     ]
    }
   ],
   "source": [
    "i = 1\n",
    "\n",
    "while i < 6:\n",
    "    print('Entry',':',i, end = ' ')\n",
    "    j = 1\n",
    "    while j < 4:\n",
    "        print('Nested',':',j, end = '')\n",
    "        j += 1\n",
    "    i += 1\n",
    "    print('End',':',i)\n",
    "    print()"
   ]
  },
  {
   "cell_type": "code",
   "execution_count": 19,
   "metadata": {},
   "outputs": [
    {
     "name": "stdout",
     "output_type": "stream",
     "text": [
      "Entry : 1 *Nested : 1 Nested : 2 Nested : 3 End : 2\n",
      "\n",
      "Entry : 2 *Nested : 1 Nested : 2 Nested : 3 End : 3\n",
      "\n",
      "Entry : 3 *Nested : 1 Nested : 2 Nested : 3 End : 4\n",
      "\n",
      "Entry : 4 *Nested : 1 Nested : 2 Nested : 3 End : 5\n",
      "\n",
      "Entry : 5 *Nested : 1 Nested : 2 Nested : 3 End : 6\n",
      "\n"
     ]
    }
   ],
   "source": [
    "i  = 1\n",
    "\n",
    "while i < 6:\n",
    "    print('Entry',':',i, end = ' *')\n",
    "    j = 1\n",
    "    while j < 4:\n",
    "        print('Nested',':',j, end = ' ')\n",
    "        j += 1\n",
    "    i += 1\n",
    "    print('End',':',i)\n",
    "    print()"
   ]
  },
  {
   "cell_type": "code",
   "execution_count": 20,
   "metadata": {},
   "outputs": [
    {
     "name": "stdout",
     "output_type": "stream",
     "text": [
      "0 1 2 3 \n",
      "0 2 4 6 \n",
      "0 3 6 9 \n",
      "0 4 8 12 \n",
      "0 5 10 15 \n"
     ]
    }
   ],
   "source": [
    "i = 1\n",
    "\n",
    "while i < 6:\n",
    "    j = 0 \n",
    "    while j < 4:\n",
    "        print(i*j, end = ' ')\n",
    "        j += 1\n",
    "    print()\n",
    "    i += 1"
   ]
  },
  {
   "cell_type": "code",
   "execution_count": 21,
   "metadata": {},
   "outputs": [
    {
     "name": "stdout",
     "output_type": "stream",
     "text": [
      "0 1 2 3 4 5 6 7 8 9 10 11 12 13 14 15 16 17 18 19 \n",
      "0 2 4 6 8 10 12 14 16 18 20 22 24 26 28 30 32 34 36 38 \n",
      "0 3 6 9 12 15 18 21 24 27 30 33 36 39 42 45 48 51 54 57 \n",
      "0 4 8 12 16 20 24 28 32 36 40 44 48 52 56 60 64 68 72 76 \n",
      "0 5 10 15 20 25 30 35 40 45 50 55 60 65 70 75 80 85 90 95 \n"
     ]
    }
   ],
   "source": [
    "i = 1\n",
    "\n",
    "while i < 6:\n",
    "    j = 0 \n",
    "    while j < 20:\n",
    "        print(i*j, end = ' ')\n",
    "        j += 1\n",
    "    print()\n",
    "    i += 1"
   ]
  },
  {
   "cell_type": "code",
   "execution_count": 23,
   "metadata": {},
   "outputs": [
    {
     "name": "stdout",
     "output_type": "stream",
     "text": [
      "L\n",
      "e\n",
      "o\n"
     ]
    }
   ],
   "source": [
    "name = 'Leo'\n",
    "for i in name:\n",
    "    print(i)"
   ]
  },
  {
   "cell_type": "code",
   "execution_count": 24,
   "metadata": {},
   "outputs": [
    {
     "name": "stdout",
     "output_type": "stream",
     "text": [
      "1\n",
      "-2\n",
      "7.954\n",
      "Hello\n",
      "[1, 2, 3]\n"
     ]
    }
   ],
   "source": [
    "for i in [1,-2,7.954,'Hello',[1,2,3]]:\n",
    "    print(i)"
   ]
  },
  {
   "cell_type": "code",
   "execution_count": 25,
   "metadata": {},
   "outputs": [
    {
     "name": "stdout",
     "output_type": "stream",
     "text": [
      "0\n",
      "1\n",
      "2\n",
      "3\n",
      "4\n",
      "5\n"
     ]
    }
   ],
   "source": [
    "for i in range(6):\n",
    "    print(i)"
   ]
  },
  {
   "cell_type": "code",
   "execution_count": 26,
   "metadata": {},
   "outputs": [
    {
     "name": "stdout",
     "output_type": "stream",
     "text": [
      "2\n",
      "3\n",
      "4\n",
      "5\n"
     ]
    }
   ],
   "source": [
    "for i in range (2,6):\n",
    "    print(i)"
   ]
  },
  {
   "cell_type": "code",
   "execution_count": 27,
   "metadata": {},
   "outputs": [
    {
     "name": "stdout",
     "output_type": "stream",
     "text": [
      "10\n",
      "12\n",
      "14\n",
      "16\n",
      "18\n",
      "20\n",
      "22\n",
      "24\n"
     ]
    }
   ],
   "source": [
    "for i in range(10,26,2):\n",
    "    print(i)"
   ]
  },
  {
   "cell_type": "code",
   "execution_count": 28,
   "metadata": {},
   "outputs": [
    {
     "name": "stdout",
     "output_type": "stream",
     "text": [
      "3\n",
      "5\n",
      "7\n",
      "9\n",
      "11\n",
      "13\n",
      "15\n"
     ]
    }
   ],
   "source": [
    "for i in range(3,17):\n",
    "    if i % 2 != 0:\n",
    "        print(i)"
   ]
  },
  {
   "cell_type": "code",
   "execution_count": 29,
   "metadata": {},
   "outputs": [
    {
     "name": "stdout",
     "output_type": "stream",
     "text": [
      "3\n",
      "4\n",
      "5\n",
      "6\n",
      "7\n"
     ]
    }
   ],
   "source": [
    "for i in range(3,17):\n",
    "    if i == 8:\n",
    "        break\n",
    "    print(i)"
   ]
  },
  {
   "cell_type": "code",
   "execution_count": 30,
   "metadata": {},
   "outputs": [
    {
     "name": "stdout",
     "output_type": "stream",
     "text": [
      "10455\n"
     ]
    }
   ],
   "source": [
    "for i in range(10453,10493):\n",
    "    if i % 17 == 0:\n",
    "        break\n",
    "print(i)"
   ]
  },
  {
   "cell_type": "code",
   "execution_count": 33,
   "metadata": {},
   "outputs": [
    {
     "name": "stdout",
     "output_type": "stream",
     "text": [
      "1\n",
      "2\n",
      "4\n",
      "5\n",
      "7\n",
      "8\n",
      "10\n",
      "11\n",
      "13\n",
      "14\n",
      "16\n",
      "17\n",
      "19\n"
     ]
    }
   ],
   "source": [
    "for i in range(1,20):\n",
    "    if i % 3 == 0:\n",
    "        continue\n",
    "    print(i)"
   ]
  },
  {
   "cell_type": "code",
   "execution_count": 34,
   "metadata": {},
   "outputs": [
    {
     "name": "stdout",
     "output_type": "stream",
     "text": [
      "1\n",
      "2\n",
      "3\n",
      "4\n",
      "6\n",
      "7\n",
      "8\n"
     ]
    }
   ],
   "source": [
    "for i in range(1,9):\n",
    "    if i == 5:\n",
    "        continue\n",
    "    print(i)"
   ]
  },
  {
   "cell_type": "code",
   "execution_count": 35,
   "metadata": {},
   "outputs": [
    {
     "name": "stdout",
     "output_type": "stream",
     "text": [
      "1\n",
      "2\n",
      "3\n",
      "4\n",
      "5\n",
      "6\n",
      "7\n",
      "8\n"
     ]
    }
   ],
   "source": [
    "for i in range(1,9):\n",
    "    if i == 5:\n",
    "        pass\n",
    "    print(i)"
   ]
  },
  {
   "cell_type": "code",
   "execution_count": 36,
   "metadata": {},
   "outputs": [
    {
     "name": "stdout",
     "output_type": "stream",
     "text": [
      "# # # #\n",
      "# # # #\n",
      "# # # #\n",
      "# # # #\n"
     ]
    }
   ],
   "source": [
    "print('# # # #')\n",
    "print('# # # #')\n",
    "print('# # # #')\n",
    "print('# # # #')"
   ]
  },
  {
   "cell_type": "code",
   "execution_count": 37,
   "metadata": {},
   "outputs": [
    {
     "name": "stdout",
     "output_type": "stream",
     "text": [
      "# # # # # "
     ]
    }
   ],
   "source": [
    "for i in range(5):\n",
    "    print (\"#\", end = \" \")"
   ]
  },
  {
   "cell_type": "code",
   "execution_count": 38,
   "metadata": {},
   "outputs": [
    {
     "name": "stdout",
     "output_type": "stream",
     "text": [
      "#\n",
      "#\n",
      "#\n",
      "#\n",
      "#\n"
     ]
    }
   ],
   "source": [
    "for i in range(5):\n",
    "    print (\"#\", end = \"\\n\")"
   ]
  },
  {
   "cell_type": "code",
   "execution_count": 39,
   "metadata": {},
   "outputs": [
    {
     "name": "stdout",
     "output_type": "stream",
     "text": [
      "# # # # # #\n",
      "#\n",
      "#\n",
      "#\n",
      "#\n"
     ]
    }
   ],
   "source": [
    "for i in range(5):\n",
    "    print (\"#\", end = \" \")\n",
    "for j in range(5):\n",
    "    print (\"#\", end = \"\\n\")"
   ]
  },
  {
   "cell_type": "code",
   "execution_count": 40,
   "metadata": {},
   "outputs": [
    {
     "name": "stdout",
     "output_type": "stream",
     "text": [
      "         *\n",
      "        ***\n",
      "       *****\n",
      "      *******\n",
      "     *********\n",
      "    ***********\n",
      "   *************\n",
      "  ***************\n",
      " *****************\n",
      "*******************\n",
      " *****************\n",
      "  ***************\n",
      "   *************\n",
      "    ***********\n",
      "     *********\n",
      "      *******\n",
      "       *****\n",
      "        ***\n",
      "         *\n"
     ]
    }
   ],
   "source": [
    "def print_diamond(size):\n",
    "    # Print the upper part of the diamond\n",
    "    for i in range(size):\n",
    "        # Print leading spaces\n",
    "        print(' ' * (size - i - 1), end='')\n",
    "        # Print stars\n",
    "        print('*' * (2 * i + 1))\n",
    "    \n",
    "    # Print the lower part of the diamond\n",
    "    for i in range(size - 2, -1, -1):\n",
    "        # Print leading spaces\n",
    "        print(' ' * (size - i - 1), end='')\n",
    "        # Print stars\n",
    "        print('*' * (2 * i + 1))\n",
    "\n",
    "# Call the function with desired size\n",
    "print_diamond(10)\n"
   ]
  },
  {
   "cell_type": "code",
   "execution_count": 41,
   "metadata": {},
   "outputs": [
    {
     "name": "stdout",
     "output_type": "stream",
     "text": [
      "\n",
      "* \n",
      "* * \n",
      "* * * \n",
      "* * * * \n"
     ]
    }
   ],
   "source": [
    "for i in range (5):\n",
    "    for j in range (i):\n",
    "        print (\"*\", end = \" \")\n",
    "    print()"
   ]
  },
  {
   "cell_type": "code",
   "execution_count": 42,
   "metadata": {},
   "outputs": [
    {
     "name": "stdout",
     "output_type": "stream",
     "text": [
      "12\n",
      "18\n",
      "27\n",
      "15\n",
      "12\n"
     ]
    }
   ],
   "source": [
    "nums = [ 12,14,18,27,15,12]\n",
    "for num in nums:\n",
    "    if num % 3 == 0:\n",
    "        print(num)"
   ]
  },
  {
   "cell_type": "code",
   "execution_count": 43,
   "metadata": {},
   "outputs": [
    {
     "name": "stdout",
     "output_type": "stream",
     "text": [
      "12\n",
      "18\n"
     ]
    }
   ],
   "source": [
    "nums = [ 12,14,18,27,15,12]\n",
    "for num in nums:\n",
    "    if num % 3 == 0:\n",
    "        print(num)\n",
    "        if num > 17:\n",
    "            break"
   ]
  },
  {
   "cell_type": "code",
   "execution_count": 1,
   "metadata": {},
   "outputs": [
    {
     "name": "stdout",
     "output_type": "stream",
     "text": [
      "Number not found\n",
      "Number not found\n",
      "Number not found\n",
      "Number not found\n",
      "15\n",
      "Number not found\n"
     ]
    }
   ],
   "source": [
    "nums = [ 12,14,18,27,15,12]\n",
    "for num in nums:\n",
    "    if num % 5 == 0:\n",
    "        print(num)\n",
    "        if num > 17:\n",
    "            break\n",
    "    else:\n",
    "        print('Number not found')"
   ]
  },
  {
   "cell_type": "code",
   "execution_count": 3,
   "metadata": {},
   "outputs": [
    {
     "name": "stdout",
     "output_type": "stream",
     "text": [
      "15\n",
      "Number not found\n"
     ]
    }
   ],
   "source": [
    "nums = [ 12,14,18,27,15,12]\n",
    "for num in nums:\n",
    "    if num % 5 == 0:\n",
    "        print(num)\n",
    "else:\n",
    "    print('Number not found')"
   ]
  },
  {
   "cell_type": "code",
   "execution_count": 4,
   "metadata": {},
   "outputs": [
    {
     "name": "stdout",
     "output_type": "stream",
     "text": [
      "15\n"
     ]
    }
   ],
   "source": [
    "nums = [ 12,14,18,27,15,12]\n",
    "for num in nums:\n",
    "    if num % 5 == 0:\n",
    "        print(num)\n",
    "        break\n",
    "else:\n",
    "    print('Number not found')"
   ]
  },
  {
   "cell_type": "code",
   "execution_count": 5,
   "metadata": {},
   "outputs": [
    {
     "name": "stdout",
     "output_type": "stream",
     "text": [
      "12 is not a prime number\n"
     ]
    }
   ],
   "source": [
    "num = 12\n",
    "for i in range(2,num):\n",
    "    if num % i == 0:\n",
    "        print(num, 'is not a prime number')\n",
    "        break\n",
    "else:\n",
    "    print(num, 'is a prime number')"
   ]
  },
  {
   "cell_type": "code",
   "execution_count": 6,
   "metadata": {},
   "outputs": [
    {
     "name": "stdout",
     "output_type": "stream",
     "text": [
      "17 is a prime number\n"
     ]
    }
   ],
   "source": [
    "num = 17\n",
    "for i in range(2,num):\n",
    "    if num % i == 0:\n",
    "        print(num, 'is not a prime number')\n",
    "        break\n",
    "else:\n",
    "    print(num, 'is a prime number')"
   ]
  },
  {
   "cell_type": "code",
   "execution_count": 4,
   "metadata": {},
   "outputs": [
    {
     "name": "stdout",
     "output_type": "stream",
     "text": [
      "array('i', [3])\n",
      "array('i', [3, 4])\n",
      "array('i', [3, 4, 5])\n",
      "array('i', [3, 4, 5, 6])\n",
      "array('i', [3, 4, 5, 6, 7])\n",
      "array('i', [3, 4, 5, 6, 7, 8])\n",
      "array('i', [3, 4, 5, 6, 7, 8, 9])\n"
     ]
    }
   ],
   "source": [
    "from array import *\n",
    "arr = array('i',[])\n",
    "n = int(input('Enter the length of array:'))\n",
    "\n",
    "for i in range(7):\n",
    "    x = int(input('Enter the next number:'))\n",
    "    arr.append(x)\n",
    "    print(arr)"
   ]
  },
  {
   "cell_type": "code",
   "execution_count": 5,
   "metadata": {},
   "outputs": [
    {
     "name": "stdout",
     "output_type": "stream",
     "text": [
      "[1 2 3 4 5]\n"
     ]
    },
    {
     "data": {
      "text/plain": [
       "numpy.ndarray"
      ]
     },
     "execution_count": 5,
     "metadata": {},
     "output_type": "execute_result"
    }
   ],
   "source": [
    "from numpy import *\n",
    "arr = array([1,2,3,4,5])\n",
    "print(arr)\n",
    "type(arr)"
   ]
  },
  {
   "cell_type": "code",
   "execution_count": 6,
   "metadata": {},
   "outputs": [
    {
     "name": "stdout",
     "output_type": "stream",
     "text": [
      "int32\n"
     ]
    }
   ],
   "source": [
    "print(arr.dtype)"
   ]
  },
  {
   "cell_type": "code",
   "execution_count": 7,
   "metadata": {},
   "outputs": [
    {
     "name": "stdout",
     "output_type": "stream",
     "text": [
      "[1.  2.  3.7 4.  5. ]\n",
      "float64\n"
     ]
    }
   ],
   "source": [
    "arr = array([1,2,3.7,4,5])\n",
    "print(arr)\n",
    "type(arr)\n",
    "print(arr.dtype)"
   ]
  },
  {
   "cell_type": "code",
   "execution_count": 9,
   "metadata": {},
   "outputs": [
    {
     "name": "stdout",
     "output_type": "stream",
     "text": [
      "(array([ 1.        ,  1.51612903,  2.03225806,  2.5483871 ,  3.06451613,\n",
      "        3.58064516,  4.09677419,  4.61290323,  5.12903226,  5.64516129,\n",
      "        6.16129032,  6.67741935,  7.19354839,  7.70967742,  8.22580645,\n",
      "        8.74193548,  9.25806452,  9.77419355, 10.29032258, 10.80645161,\n",
      "       11.32258065, 11.83870968, 12.35483871, 12.87096774, 13.38709677,\n",
      "       13.90322581, 14.41935484, 14.93548387, 15.4516129 , 15.96774194,\n",
      "       16.48387097, 17.        ]), 0.5161290322580645)\n"
     ]
    }
   ],
   "source": [
    "import numpy as np\n",
    "\n",
    "arr = np.linspace(1,17,32,14,5)\n",
    "print(arr)"
   ]
  },
  {
   "cell_type": "code",
   "execution_count": 10,
   "metadata": {},
   "outputs": [
    {
     "name": "stdout",
     "output_type": "stream",
     "text": [
      "[ 1  3  5  7  9 11 13 15]\n"
     ]
    }
   ],
   "source": [
    "arr = np.arange(1,17,2)\n",
    "print(arr)"
   ]
  },
  {
   "cell_type": "code",
   "execution_count": 11,
   "metadata": {},
   "outputs": [
    {
     "data": {
      "text/plain": [
       "array([0., 0., 0., 0., 0.])"
      ]
     },
     "execution_count": 11,
     "metadata": {},
     "output_type": "execute_result"
    }
   ],
   "source": [
    "arr = np.zeros(5)\n",
    "arr"
   ]
  },
  {
   "cell_type": "code",
   "execution_count": null,
   "metadata": {},
   "outputs": [],
   "source": []
  },
  {
   "cell_type": "code",
   "execution_count": null,
   "metadata": {},
   "outputs": [],
   "source": []
  },
  {
   "cell_type": "code",
   "execution_count": null,
   "metadata": {},
   "outputs": [],
   "source": []
  },
  {
   "cell_type": "code",
   "execution_count": null,
   "metadata": {},
   "outputs": [],
   "source": []
  },
  {
   "cell_type": "code",
   "execution_count": null,
   "metadata": {},
   "outputs": [],
   "source": []
  },
  {
   "cell_type": "code",
   "execution_count": null,
   "metadata": {},
   "outputs": [],
   "source": []
  }
 ],
 "metadata": {
  "kernelspec": {
   "display_name": "base",
   "language": "python",
   "name": "python3"
  },
  "language_info": {
   "codemirror_mode": {
    "name": "ipython",
    "version": 3
   },
   "file_extension": ".py",
   "mimetype": "text/x-python",
   "name": "python",
   "nbconvert_exporter": "python",
   "pygments_lexer": "ipython3",
   "version": "3.12.4"
  }
 },
 "nbformat": 4,
 "nbformat_minor": 2
}
